{
  "nbformat": 4,
  "nbformat_minor": 0,
  "metadata": {
    "colab": {
      "provenance": [],
      "gpuType": "T4"
    },
    "kernelspec": {
      "name": "python3",
      "display_name": "Python 3"
    },
    "language_info": {
      "name": "python"
    },
    "accelerator": "GPU"
  },
  "cells": [
    {
      "cell_type": "markdown",
      "source": [
        "#Importing Google Drive\n",
        "The google drive will be used to store our trained weights"
      ],
      "metadata": {
        "id": "CXVyBnSBS5fn"
      }
    },
    {
      "cell_type": "code",
      "source": [
        "from google.colab import drive\n",
        "import os\n",
        "\n",
        "\n",
        "drive.mount('/content/drive')\n",
        "MODEL_DIR = '/content/drive/My Drive/mask_rcnn_logs'\n",
        "os.makedirs(MODEL_DIR, exist_ok=True)\n",
        "print(f\"Model directory set to: {MODEL_DIR}\")\n",
        "\n"
      ],
      "metadata": {
        "id": "0kR9kqF6jBoF"
      },
      "execution_count": null,
      "outputs": []
    },
    {
      "cell_type": "markdown",
      "source": [
        "# Setup compatible environment\n",
        "\n",
        "Libraries used in this project are compatible with python 3.10.12\n",
        "1.   switch to python 3.10.12\n",
        "2.   install pip\n",
        "3.   install virtualenv\n"
      ],
      "metadata": {
        "id": "Zn7NaqfmOPy8"
      }
    },
    {
      "cell_type": "code",
      "source": [
        "!python --version\n",
        "!sudo update-alternatives --install /usr/bin/python3 python3 /usr/bin/python3.10 1\n",
        "!sudo update-alternatives --config python3\n",
        "!python --version\n",
        "!sudo apt-get install python3-pip\n",
        "!pip install virtualenv\n"
      ],
      "metadata": {
        "id": "PIDquQDBOvwc"
      },
      "execution_count": null,
      "outputs": []
    },
    {
      "cell_type": "markdown",
      "source": [
        "# Cloning Github Repository\n",
        "\n",
        "\n",
        "*   This repository contains our dataset\n",
        "*   It also contains the mask rcnn implementation\n",
        "*   It also contains code that we can run on local machine to train, and evaluate the model\n",
        "*   After cloning this repo, we change the runtime directory to repo directory"
      ],
      "metadata": {
        "id": "v5S2kinfev0X"
      }
    },
    {
      "cell_type": "code",
      "source": [
        "import os\n",
        "!git clone https://github.com/pscholar/FYP_CNN.git FYP_CNN\n",
        "os.chdir('/content/FYP_CNN/')"
      ],
      "metadata": {
        "id": "vfMzvO3CTUsy"
      },
      "execution_count": null,
      "outputs": []
    },
    {
      "cell_type": "markdown",
      "source": [
        "# Creating Virtual Environment\n",
        "\n",
        "\n",
        "*   create virtual environment in current directory:(/content/FYP_CNN/)\n",
        "*   activate the virtual environment\n",
        "\n",
        "Note that the activation does not work(is not supported on colab), and we do it for completeness"
      ],
      "metadata": {
        "id": "cvCirCSKgt5W"
      }
    },
    {
      "cell_type": "code",
      "source": [
        "\n",
        "!virtualenv myenv\n",
        "!source myenv/bin/activate"
      ],
      "metadata": {
        "id": "az5466ZNUkVB"
      },
      "execution_count": null,
      "outputs": []
    },
    {
      "cell_type": "markdown",
      "source": [
        "# Installing Support Libraries\n",
        "The support libraries together with their versions are specified in the requirements.txt folder. These include;\n",
        "*  cython==3.0.5\n",
        "*  h5py==3.9.0\n",
        "* imgaug==0.4.0\n",
        "* ipython==7.34.0\n",
        "* ipython-genutils==0.2.0\n",
        "* ipython-sql==0.5.0\n",
        "* keras==2.14.0\n",
        "* matplotlib==3.7.1\n",
        "* numpy==1.23.5\n",
        "* opencv-contrib-python==4.8.0.76\n",
        "* opencv-python==4.8.0.76\n",
        "* pillow==9.4.0\n",
        "* scikit-image==0.19.3\n",
        "* scikit-learn==1.3.0\n",
        "* scipy==1.11.3\n",
        "* tensorboard==2.14.1\n",
        "* tensorflow[and-cuda]==2.14.0\n"
      ],
      "metadata": {
        "id": "HD9la4dXhXfG"
      }
    },
    {
      "cell_type": "code",
      "source": [
        "!/content/FYP_CNN/myenv/bin/pip install -r requirements.txt"
      ],
      "metadata": {
        "collapsed": true,
        "id": "uIZn9WQhVIyp"
      },
      "execution_count": null,
      "outputs": []
    },
    {
      "cell_type": "markdown",
      "source": [
        "# Download Pretrained Coco Weights\n",
        "* coco weights from which fine tuning will start, incase we haven't done any fine tuning yet.\n",
        "*   These are place in the src directory."
      ],
      "metadata": {
        "id": "6t4yFAH3iQ8y"
      }
    },
    {
      "cell_type": "code",
      "source": [
        "%cd /content/FYP_CNN/src/mrcnn_weights/\n",
        "!wget https://github.com/matterport/Mask_RCNN/releases/download/v2.0/mask_rcnn_coco.h5"
      ],
      "metadata": {
        "collapsed": true,
        "id": "AmKu2T1mY5zg"
      },
      "execution_count": null,
      "outputs": []
    },
    {
      "cell_type": "markdown",
      "source": [
        "# Starting From Last Trained Weights\n",
        "\n",
        "\n",
        "*   These can be loaded from your local storage\n",
        "*   If no last trained weights exist, the coco weights will be used by default.\n",
        "*   These are stored in the /content/FYP_CNN/src/ folder\n",
        "\n"
      ],
      "metadata": {
        "id": "9T-pSbREjF9E"
      }
    },
    {
      "cell_type": "markdown",
      "source": [
        "# Training\n",
        "\n",
        "Training is done  in two stages:\n",
        "1. Only the heads.\n",
        "2. Fine-tune all layers.\n",
        "\n",
        "\n",
        "\n"
      ],
      "metadata": {
        "id": "DlHPi_63uFnQ"
      }
    },
    {
      "cell_type": "code",
      "source": [
        "%cd /content/FYP_CNN/src/\n",
        "!/content/FYP_CNN/myenv/bin/python train.py"
      ],
      "metadata": {
        "id": "DmxPTv3L2Ilg"
      },
      "execution_count": null,
      "outputs": []
    }
  ]
}